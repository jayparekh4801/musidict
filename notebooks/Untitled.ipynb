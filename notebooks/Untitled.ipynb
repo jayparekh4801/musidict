{
 "cells": [
  {
   "cell_type": "code",
   "execution_count": 1,
   "id": "f672e0cf-c410-41d3-8ce0-33df6748d155",
   "metadata": {},
   "outputs": [],
   "source": [
    "a = 1"
   ]
  },
  {
   "cell_type": "code",
   "execution_count": 1,
   "id": "fcf5815c-fad6-490d-9835-f71057239313",
   "metadata": {},
   "outputs": [],
   "source": [
    "from google.cloud import storage\n",
    "import numpy as np\n",
    "from io import BytesIO\n",
    "import os\n",
    "from tqdm import tqdm"
   ]
  },
  {
   "cell_type": "code",
   "execution_count": 2,
   "id": "f14f76d5-9389-4553-8182-8208ac53367e",
   "metadata": {},
   "outputs": [],
   "source": [
    "client = storage.Client(project=\"musidict-440901\")"
   ]
  },
  {
   "cell_type": "code",
   "execution_count": 3,
   "id": "85f4bad7-4342-4423-a580-a51d327671ab",
   "metadata": {},
   "outputs": [],
   "source": [
    "bucket_name = 'musidict_raw_data'\n",
    "bucket = client.get_bucket(bucket_name)"
   ]
  },
  {
   "cell_type": "code",
   "execution_count": 5,
   "id": "501a64a5-4c42-4b40-b3ed-1ea2d8e69f89",
   "metadata": {},
   "outputs": [],
   "source": [
    "blobs = bucket.list_blobs()"
   ]
  },
  {
   "cell_type": "code",
   "execution_count": 12,
   "id": "8d8bc3d2-007d-4cd1-885c-939329b7445f",
   "metadata": {},
   "outputs": [],
   "source": [
    "npz_bytes = blob.download_as_bytes()\n",
    "\n",
    "# Load the npz file into a dictionary\n",
    "data_dict = {}\n",
    "with np.load(BytesIO(npz_bytes), allow_pickle=True) as data:\n",
    "    for key in data.files:\n",
    "        data_dict[key] = data[f\"{key}.npy\"]"
   ]
  },
  {
   "cell_type": "code",
   "execution_count": 4,
   "id": "2eefe339-a6ee-407a-93d9-7678b8e16e0c",
   "metadata": {},
   "outputs": [],
   "source": [
    "local_directory = 'raw_data'"
   ]
  },
  {
   "cell_type": "code",
   "execution_count": 10,
   "id": "e2c8883c-b097-497f-a1d1-15cf2c6bd380",
   "metadata": {},
   "outputs": [
    {
     "name": "stderr",
     "output_type": "stream",
     "text": [
      "7139it [27:57,  4.26it/s]\n"
     ]
    }
   ],
   "source": [
    "for blob in tqdm(bucket.list_blobs()):\n",
    "    if blob.name.endswith('.npz'):\n",
    "        local_path = os.path.join(local_directory, blob.name.split('/')[-1])\n",
    "        blob.download_to_filename(local_path)"
   ]
  },
  {
   "cell_type": "code",
   "execution_count": 7,
   "id": "6528d11e-a033-47a2-b64b-b885db206ba4",
   "metadata": {},
   "outputs": [
    {
     "name": "stdout",
     "output_type": "stream",
     "text": [
      "handle\n"
     ]
    }
   ],
   "source": [
    "from zipfile import BadZipFile\n",
    "\n",
    "try:\n",
    "    np.load(\"musidict/data/raw_data/114397.npz\")\n",
    "except (EOFError, OSError, ValueError, BadZipFile) as e:\n",
    "    print(\"handle\")"
   ]
  },
  {
   "cell_type": "code",
   "execution_count": 4,
   "id": "7097d36a-01fe-48e3-a149-52ca36ae4c97",
   "metadata": {},
   "outputs": [
    {
     "data": {
      "text/plain": [
       "0"
      ]
     },
     "execution_count": 4,
     "metadata": {},
     "output_type": "execute_result"
    }
   ],
   "source": [
    "os.path.getsize(\"musidict/data/raw_data/114559.npz\")"
   ]
  },
  {
   "cell_type": "code",
   "execution_count": 15,
   "id": "d14227f5-9def-4198-a309-b570319d2a85",
   "metadata": {},
   "outputs": [],
   "source": [
    "import sys\n",
    "sys.path.append(\"/home/jparekh4/musidict/\")"
   ]
  },
  {
   "cell_type": "code",
   "execution_count": 16,
   "id": "9419697e-b073-4413-be8a-718949f032ae",
   "metadata": {},
   "outputs": [],
   "source": [
    "from src import utils"
   ]
  },
  {
   "cell_type": "code",
   "execution_count": 59,
   "id": "c68aa0eb-4a4a-467c-8a5c-968b5d5cf53a",
   "metadata": {},
   "outputs": [
    {
     "name": "stdout",
     "output_type": "stream",
     "text": [
      "21\n",
      "13\n",
      "Total Files Processed: 1\n",
      "1235\n",
      "13\n",
      "Total Files Processed: 2\n"
     ]
    }
   ],
   "source": [
    "dataset = []\n",
    "count = 0\n",
    "for filename in os.listdir(\"musidict/data/raw_data/\")[:2]:\n",
    "    data_point = []\n",
    "    if filename.endswith('.npz') and os.path.getsize(os.path.join(\"musidict/data/raw_data/\", filename)):\n",
    "        try:\n",
    "            file_path = os.path.join(\"musidict/data/raw_data/\", filename)\n",
    "            data = np.load(file_path, allow_pickle=True)\n",
    "            if \"metadata\" not in data.keys():\n",
    "                print(f\"{filename} skipped.\")\n",
    "                continue\n",
    "            genre = utils.preprocess_genres(data[\"metadata\"][0][\"genres\"])\n",
    "            print(genre)\n",
    "            if not genre:\n",
    "                print(f\"{filename} skipped.\")\n",
    "                continue\n",
    "            data_point.append(genre)\n",
    "            data_point.append(data[\"metadata\"][0][\"bit_rate\"])\n",
    "            data_point.append(data[\"metadata\"][0][\"duration\"])\n",
    "            data_point.append(utils.categorize_listens(data[\"metadata\"][0][\"listens\"]))\n",
    "            \n",
    "\n",
    "            data = utils.reshape_all_time_series_data(data)\n",
    "            data_point.append(np.array(data[\"mel_spectrogram\"]))\n",
    "            data_point.append(np.array(data[\"mfccs\"]))\n",
    "            data_point.append(np.array(data[\"chroma\"]))\n",
    "            data_point.append(np.array(data[\"spectral_contrast\"]))\n",
    "            data_point.append(np.array(data[\"zcr\"]))\n",
    "            data_point.append(np.array(data[\"spectral_centroid\"]))\n",
    "            data_point.append(np.array(data[\"spectral_bandwidth\"]))\n",
    "            data_point.append(np.array(data[\"rms_energy\"]))\n",
    "            data_point.append(np.array(data[\"tonnetz\"]))\n",
    "            print(len(data_point))\n",
    "            dataset.append(data_point)\n",
    "            count += 1\n",
    "            print(f\"Total Files Processed: {count}\")\n",
    "        except (EOFError, OSError, ValueError, BadZipFile) as e:\n",
    "            print(f\"{filename} skipped.\")\n",
    "            # raise CustomException(e, sys)\n",
    "dataset = np.array(dataset, dtype=object)\n",
    "dataset_df = pd.DataFrame(dataset, columns=[\n",
    "    \"genre\",\n",
    "    \"bit_rate\",\n",
    "    \"duration\",\n",
    "    \"success\",\n",
    "    \"mel_spectrogram\",\n",
    "    \"mfccs\",\n",
    "    \"chroma\",\n",
    "    \"spectral_contrast\",\n",
    "    \"zcr\",\n",
    "    \"spectral_centroid\",\n",
    "    \"spectral_bandwidth\",\n",
    "    \"rms_energy\",\n",
    "    \"tonnetz\",\n",
    "    ])"
   ]
  },
  {
   "cell_type": "code",
   "execution_count": null,
   "id": "a9771f27-8f8b-479b-b761-78c60a5481e6",
   "metadata": {},
   "outputs": [],
   "source": [
    "datset_df"
   ]
  },
  {
   "cell_type": "code",
   "execution_count": 52,
   "id": "27a06ff5-5e41-4e84-827e-8c87b3805f15",
   "metadata": {},
   "outputs": [],
   "source": [
    "import pandas as pd"
   ]
  },
  {
   "cell_type": "code",
   "execution_count": 53,
   "id": "936694ec-f656-4399-bf82-ebf7d0593ab7",
   "metadata": {},
   "outputs": [
    {
     "data": {
      "text/html": [
       "<div>\n",
       "<style scoped>\n",
       "    .dataframe tbody tr th:only-of-type {\n",
       "        vertical-align: middle;\n",
       "    }\n",
       "\n",
       "    .dataframe tbody tr th {\n",
       "        vertical-align: top;\n",
       "    }\n",
       "\n",
       "    .dataframe thead th {\n",
       "        text-align: right;\n",
       "    }\n",
       "</style>\n",
       "<table border=\"1\" class=\"dataframe\">\n",
       "  <thead>\n",
       "    <tr style=\"text-align: right;\">\n",
       "      <th></th>\n",
       "      <th>0</th>\n",
       "      <th>1</th>\n",
       "      <th>2</th>\n",
       "      <th>3</th>\n",
       "      <th>4</th>\n",
       "      <th>5</th>\n",
       "      <th>6</th>\n",
       "      <th>7</th>\n",
       "      <th>8</th>\n",
       "      <th>9</th>\n",
       "      <th>10</th>\n",
       "      <th>11</th>\n",
       "      <th>12</th>\n",
       "    </tr>\n",
       "  </thead>\n",
       "  <tbody>\n",
       "    <tr>\n",
       "      <th>0</th>\n",
       "      <td>21</td>\n",
       "      <td>320000</td>\n",
       "      <td>170</td>\n",
       "      <td>hit</td>\n",
       "      <td>[[62.134373, 93.55765, 160.65472, 196.91096, 2...</td>\n",
       "      <td>[[24.444313, 45.95047, 9.749279, -23.901106, -...</td>\n",
       "      <td>[[0.42347562, 0.120253034, 0.22251274, 0.35785...</td>\n",
       "      <td>[[10.50639746851914, 15.647106600337029, 16.42...</td>\n",
       "      <td>[[0.0654296875, 0.11474609375, 0.15185546875, ...</td>\n",
       "      <td>[[2226.1667734748994, 2373.375721150561, 2716....</td>\n",
       "      <td>[[2187.6527291960438, 2264.697912209358, 2424....</td>\n",
       "      <td>[[0.20811851, 0.22350323, 0.23468891, 0.193144...</td>\n",
       "      <td>[[-0.03982076630060101, -0.03213364967123078, ...</td>\n",
       "    </tr>\n",
       "    <tr>\n",
       "      <th>1</th>\n",
       "      <td>1235</td>\n",
       "      <td>192000</td>\n",
       "      <td>229</td>\n",
       "      <td>average</td>\n",
       "      <td>[[0.019699413, 0.031691633, 0.0037983505, 3.33...</td>\n",
       "      <td>[[-351.48508, -268.2251, -264.4241, -283.9995,...</td>\n",
       "      <td>[[0.39107373, 0.35774177, 0.33929333, 0.354042...</td>\n",
       "      <td>[[18.04133315461279, 26.87962298732883, 32.650...</td>\n",
       "      <td>[[0.0576171875, 0.06396484375, 0.072265625, 0....</td>\n",
       "      <td>[[670.8332641092563, 676.3803317771357, 664.77...</td>\n",
       "      <td>[[1284.762475296864, 1271.4750849031104, 1262....</td>\n",
       "      <td>[[0.04844471, 0.06618443, 0.07764267, 0.083970...</td>\n",
       "      <td>[[0.07232490624633492, 0.13012848240715416, 0....</td>\n",
       "    </tr>\n",
       "  </tbody>\n",
       "</table>\n",
       "</div>"
      ],
      "text/plain": [
       "     0       1    2        3   \\\n",
       "0    21  320000  170      hit   \n",
       "1  1235  192000  229  average   \n",
       "\n",
       "                                                  4   \\\n",
       "0  [[62.134373, 93.55765, 160.65472, 196.91096, 2...   \n",
       "1  [[0.019699413, 0.031691633, 0.0037983505, 3.33...   \n",
       "\n",
       "                                                  5   \\\n",
       "0  [[24.444313, 45.95047, 9.749279, -23.901106, -...   \n",
       "1  [[-351.48508, -268.2251, -264.4241, -283.9995,...   \n",
       "\n",
       "                                                  6   \\\n",
       "0  [[0.42347562, 0.120253034, 0.22251274, 0.35785...   \n",
       "1  [[0.39107373, 0.35774177, 0.33929333, 0.354042...   \n",
       "\n",
       "                                                  7   \\\n",
       "0  [[10.50639746851914, 15.647106600337029, 16.42...   \n",
       "1  [[18.04133315461279, 26.87962298732883, 32.650...   \n",
       "\n",
       "                                                  8   \\\n",
       "0  [[0.0654296875, 0.11474609375, 0.15185546875, ...   \n",
       "1  [[0.0576171875, 0.06396484375, 0.072265625, 0....   \n",
       "\n",
       "                                                  9   \\\n",
       "0  [[2226.1667734748994, 2373.375721150561, 2716....   \n",
       "1  [[670.8332641092563, 676.3803317771357, 664.77...   \n",
       "\n",
       "                                                  10  \\\n",
       "0  [[2187.6527291960438, 2264.697912209358, 2424....   \n",
       "1  [[1284.762475296864, 1271.4750849031104, 1262....   \n",
       "\n",
       "                                                  11  \\\n",
       "0  [[0.20811851, 0.22350323, 0.23468891, 0.193144...   \n",
       "1  [[0.04844471, 0.06618443, 0.07764267, 0.083970...   \n",
       "\n",
       "                                                  12  \n",
       "0  [[-0.03982076630060101, -0.03213364967123078, ...  \n",
       "1  [[0.07232490624633492, 0.13012848240715416, 0....  "
      ]
     },
     "execution_count": 53,
     "metadata": {},
     "output_type": "execute_result"
    }
   ],
   "source": [
    "pd.DataFrame(dataset)"
   ]
  },
  {
   "cell_type": "code",
   "execution_count": 55,
   "id": "ab61d29f-1073-4353-972a-9070b3191f79",
   "metadata": {},
   "outputs": [],
   "source": [
    "dataset_df = pd.DataFrame(dataset, columns=[\n",
    "    \"genre\",\n",
    "    \"bit_rate\",\n",
    "    \"duration\",\n",
    "    \"success\",\n",
    "    \"mel_spectrogram\",\n",
    "    \"mfccs\",\n",
    "    \"chroma\",\n",
    "    \"spectral_contrast\",\n",
    "    \"zcr\",\n",
    "    \"spectral_centroid\",\n",
    "    \"spectral_bandwidth\",\n",
    "    \"rms_energy\",\n",
    "    \"tonnetz\",\n",
    "    ])"
   ]
  },
  {
   "cell_type": "code",
   "execution_count": 56,
   "id": "213415a4-1a6d-481a-a0d6-14dceec70197",
   "metadata": {},
   "outputs": [
    {
     "data": {
      "text/html": [
       "<div>\n",
       "<style scoped>\n",
       "    .dataframe tbody tr th:only-of-type {\n",
       "        vertical-align: middle;\n",
       "    }\n",
       "\n",
       "    .dataframe tbody tr th {\n",
       "        vertical-align: top;\n",
       "    }\n",
       "\n",
       "    .dataframe thead th {\n",
       "        text-align: right;\n",
       "    }\n",
       "</style>\n",
       "<table border=\"1\" class=\"dataframe\">\n",
       "  <thead>\n",
       "    <tr style=\"text-align: right;\">\n",
       "      <th></th>\n",
       "      <th>genre</th>\n",
       "      <th>bit_rate</th>\n",
       "      <th>duration</th>\n",
       "      <th>success</th>\n",
       "      <th>mel_spectrogram</th>\n",
       "      <th>mfccs</th>\n",
       "      <th>chroma</th>\n",
       "      <th>spectral_contrast</th>\n",
       "      <th>zcr</th>\n",
       "      <th>spectral_centroid</th>\n",
       "      <th>spectral_bandwidth</th>\n",
       "      <th>rms_energy</th>\n",
       "      <th>tonnetz</th>\n",
       "    </tr>\n",
       "  </thead>\n",
       "  <tbody>\n",
       "    <tr>\n",
       "      <th>0</th>\n",
       "      <td>21</td>\n",
       "      <td>320000</td>\n",
       "      <td>170</td>\n",
       "      <td>hit</td>\n",
       "      <td>[[62.134373, 93.55765, 160.65472, 196.91096, 2...</td>\n",
       "      <td>[[24.444313, 45.95047, 9.749279, -23.901106, -...</td>\n",
       "      <td>[[0.42347562, 0.120253034, 0.22251274, 0.35785...</td>\n",
       "      <td>[[10.50639746851914, 15.647106600337029, 16.42...</td>\n",
       "      <td>[[0.0654296875, 0.11474609375, 0.15185546875, ...</td>\n",
       "      <td>[[2226.1667734748994, 2373.375721150561, 2716....</td>\n",
       "      <td>[[2187.6527291960438, 2264.697912209358, 2424....</td>\n",
       "      <td>[[0.20811851, 0.22350323, 0.23468891, 0.193144...</td>\n",
       "      <td>[[-0.03982076630060101, -0.03213364967123078, ...</td>\n",
       "    </tr>\n",
       "    <tr>\n",
       "      <th>1</th>\n",
       "      <td>1235</td>\n",
       "      <td>192000</td>\n",
       "      <td>229</td>\n",
       "      <td>average</td>\n",
       "      <td>[[0.019699413, 0.031691633, 0.0037983505, 3.33...</td>\n",
       "      <td>[[-351.48508, -268.2251, -264.4241, -283.9995,...</td>\n",
       "      <td>[[0.39107373, 0.35774177, 0.33929333, 0.354042...</td>\n",
       "      <td>[[18.04133315461279, 26.87962298732883, 32.650...</td>\n",
       "      <td>[[0.0576171875, 0.06396484375, 0.072265625, 0....</td>\n",
       "      <td>[[670.8332641092563, 676.3803317771357, 664.77...</td>\n",
       "      <td>[[1284.762475296864, 1271.4750849031104, 1262....</td>\n",
       "      <td>[[0.04844471, 0.06618443, 0.07764267, 0.083970...</td>\n",
       "      <td>[[0.07232490624633492, 0.13012848240715416, 0....</td>\n",
       "    </tr>\n",
       "  </tbody>\n",
       "</table>\n",
       "</div>"
      ],
      "text/plain": [
       "   genre  bit_rate  duration  success  \\\n",
       "0     21    320000       170      hit   \n",
       "1   1235    192000       229  average   \n",
       "\n",
       "                                     mel_spectrogram  \\\n",
       "0  [[62.134373, 93.55765, 160.65472, 196.91096, 2...   \n",
       "1  [[0.019699413, 0.031691633, 0.0037983505, 3.33...   \n",
       "\n",
       "                                               mfccs  \\\n",
       "0  [[24.444313, 45.95047, 9.749279, -23.901106, -...   \n",
       "1  [[-351.48508, -268.2251, -264.4241, -283.9995,...   \n",
       "\n",
       "                                              chroma  \\\n",
       "0  [[0.42347562, 0.120253034, 0.22251274, 0.35785...   \n",
       "1  [[0.39107373, 0.35774177, 0.33929333, 0.354042...   \n",
       "\n",
       "                                   spectral_contrast  \\\n",
       "0  [[10.50639746851914, 15.647106600337029, 16.42...   \n",
       "1  [[18.04133315461279, 26.87962298732883, 32.650...   \n",
       "\n",
       "                                                 zcr  \\\n",
       "0  [[0.0654296875, 0.11474609375, 0.15185546875, ...   \n",
       "1  [[0.0576171875, 0.06396484375, 0.072265625, 0....   \n",
       "\n",
       "                                   spectral_centroid  \\\n",
       "0  [[2226.1667734748994, 2373.375721150561, 2716....   \n",
       "1  [[670.8332641092563, 676.3803317771357, 664.77...   \n",
       "\n",
       "                                  spectral_bandwidth  \\\n",
       "0  [[2187.6527291960438, 2264.697912209358, 2424....   \n",
       "1  [[1284.762475296864, 1271.4750849031104, 1262....   \n",
       "\n",
       "                                          rms_energy  \\\n",
       "0  [[0.20811851, 0.22350323, 0.23468891, 0.193144...   \n",
       "1  [[0.04844471, 0.06618443, 0.07764267, 0.083970...   \n",
       "\n",
       "                                             tonnetz  \n",
       "0  [[-0.03982076630060101, -0.03213364967123078, ...  \n",
       "1  [[0.07232490624633492, 0.13012848240715416, 0....  "
      ]
     },
     "execution_count": 56,
     "metadata": {},
     "output_type": "execute_result"
    }
   ],
   "source": [
    "dataset_df"
   ]
  },
  {
   "cell_type": "code",
   "execution_count": 61,
   "id": "63b2d3b0-abd7-47fc-9514-fc9c356debbc",
   "metadata": {},
   "outputs": [],
   "source": [
    "t_dash = np.load(\"musidict/data/transformed_data/transformed_dataset.npy\", allow_pickle=True)"
   ]
  },
  {
   "cell_type": "code",
   "execution_count": 66,
   "id": "3793cf8e-0fa3-40dc-8fcc-38c7f9a74990",
   "metadata": {},
   "outputs": [
    {
     "data": {
      "text/plain": [
       "(4083,)"
      ]
     },
     "execution_count": 66,
     "metadata": {},
     "output_type": "execute_result"
    }
   ],
   "source": [
    "t_dash[:, 4]"
   ]
  },
  {
   "cell_type": "code",
   "execution_count": 67,
   "id": "2a780828-d1b3-48dc-9c85-0bacedd937a6",
   "metadata": {},
   "outputs": [],
   "source": [
    "import torch"
   ]
  },
  {
   "cell_type": "code",
   "execution_count": 73,
   "id": "c47e3b81-8ad6-4aa2-b2ef-f53403531751",
   "metadata": {},
   "outputs": [
    {
     "ename": "ValueError",
     "evalue": "all input arrays must have the same shape",
     "output_type": "error",
     "traceback": [
      "\u001b[0;31m---------------------------------------------------------------------------\u001b[0m",
      "\u001b[0;31mValueError\u001b[0m                                Traceback (most recent call last)",
      "Cell \u001b[0;32mIn[73], line 1\u001b[0m\n\u001b[0;32m----> 1\u001b[0m torch\u001b[38;5;241m.\u001b[39mtensor(\u001b[43mnp\u001b[49m\u001b[38;5;241;43m.\u001b[39;49m\u001b[43mstack\u001b[49m\u001b[43m(\u001b[49m\u001b[43mt_dash\u001b[49m\u001b[43m[\u001b[49m\u001b[43m:\u001b[49m\u001b[43m,\u001b[49m\u001b[43m \u001b[49m\u001b[38;5;241;43m3\u001b[39;49m\u001b[43m]\u001b[49m\u001b[43m)\u001b[49m)\n",
      "File \u001b[0;32m/packages/apps/jupyter/2023-10-09/lib/python3.11/site-packages/numpy/core/shape_base.py:449\u001b[0m, in \u001b[0;36mstack\u001b[0;34m(arrays, axis, out, dtype, casting)\u001b[0m\n\u001b[1;32m    447\u001b[0m shapes \u001b[38;5;241m=\u001b[39m {arr\u001b[38;5;241m.\u001b[39mshape \u001b[38;5;28;01mfor\u001b[39;00m arr \u001b[38;5;129;01min\u001b[39;00m arrays}\n\u001b[1;32m    448\u001b[0m \u001b[38;5;28;01mif\u001b[39;00m \u001b[38;5;28mlen\u001b[39m(shapes) \u001b[38;5;241m!=\u001b[39m \u001b[38;5;241m1\u001b[39m:\n\u001b[0;32m--> 449\u001b[0m     \u001b[38;5;28;01mraise\u001b[39;00m \u001b[38;5;167;01mValueError\u001b[39;00m(\u001b[38;5;124m'\u001b[39m\u001b[38;5;124mall input arrays must have the same shape\u001b[39m\u001b[38;5;124m'\u001b[39m)\n\u001b[1;32m    451\u001b[0m result_ndim \u001b[38;5;241m=\u001b[39m arrays[\u001b[38;5;241m0\u001b[39m]\u001b[38;5;241m.\u001b[39mndim \u001b[38;5;241m+\u001b[39m \u001b[38;5;241m1\u001b[39m\n\u001b[1;32m    452\u001b[0m axis \u001b[38;5;241m=\u001b[39m normalize_axis_index(axis, result_ndim)\n",
      "\u001b[0;31mValueError\u001b[0m: all input arrays must have the same shape"
     ]
    }
   ],
   "source": [
    "torch.tensor(np.stack(t_dash[:, 3]))"
   ]
  },
  {
   "cell_type": "code",
   "execution_count": 78,
   "id": "87778bc0-2caa-4cbd-b39d-a966332e7e04",
   "metadata": {},
   "outputs": [
    {
     "name": "stdout",
     "output_type": "stream",
     "text": [
      "242\n",
      "2336\n",
      "2705\n"
     ]
    }
   ],
   "source": [
    "for i in range(4083):\n",
    "    if t_dash[i, 3].shape != (128, 937):\n",
    "        print(i)"
   ]
  },
  {
   "cell_type": "code",
   "execution_count": 81,
   "id": "68af5b1b-c73e-4376-ac06-6f2914be8c0c",
   "metadata": {},
   "outputs": [
    {
     "data": {
      "text/plain": [
       "(128, 51)"
      ]
     },
     "execution_count": 81,
     "metadata": {},
     "output_type": "execute_result"
    }
   ],
   "source": [
    "t_dash[2705, 3].shape"
   ]
  },
  {
   "cell_type": "code",
   "execution_count": 82,
   "id": "65137034-8f88-4baf-82b8-a13d6606a0cf",
   "metadata": {},
   "outputs": [
    {
     "data": {
      "text/plain": [
       "(128, 49)"
      ]
     },
     "execution_count": 82,
     "metadata": {},
     "output_type": "execute_result"
    }
   ],
   "source": [
    "t_dash[2336, 3].shape"
   ]
  },
  {
   "cell_type": "code",
   "execution_count": 83,
   "id": "de4f73af-9e42-44e0-845c-f589f8c2cdb4",
   "metadata": {},
   "outputs": [],
   "source": [
    "def normalize_array_shape(array, target_shape=(128, 937)):\n",
    "    # Truncate if the array is larger than the target shape\n",
    "    truncated_array = array[:target_shape[0], :target_shape[1]]\n",
    "    \n",
    "    # Pad if the array is smaller than the target shape\n",
    "    padding = ((0, max(0, target_shape[0] - truncated_array.shape[0])),\n",
    "               (0, max(0, target_shape[1] - truncated_array.shape[1])))\n",
    "    \n",
    "    normalized_array = np.pad(truncated_array, padding, mode='constant')\n",
    "    return normalized_array"
   ]
  },
  {
   "cell_type": "code",
   "execution_count": 85,
   "id": "21993cf2-dd92-40a6-abdd-52f2f191f2d5",
   "metadata": {},
   "outputs": [],
   "source": [
    "res = normalize_array_shape(t_dash[2336, 3])"
   ]
  },
  {
   "cell_type": "code",
   "execution_count": 86,
   "id": "dbdfa969-2cc6-4a37-86bf-9a697e2f6d75",
   "metadata": {},
   "outputs": [
    {
     "data": {
      "text/plain": [
       "(128, 937)"
      ]
     },
     "execution_count": 86,
     "metadata": {},
     "output_type": "execute_result"
    }
   ],
   "source": [
    "res.shape"
   ]
  },
  {
   "cell_type": "code",
   "execution_count": null,
   "id": "e2a37121-c70d-4ef2-9ed9-b35c85be5d88",
   "metadata": {},
   "outputs": [],
   "source": []
  }
 ],
 "metadata": {
  "kernelspec": {
   "display_name": "Python 3 (ipykernel)",
   "language": "python",
   "name": "python3"
  },
  "language_info": {
   "codemirror_mode": {
    "name": "ipython",
    "version": 3
   },
   "file_extension": ".py",
   "mimetype": "text/x-python",
   "name": "python",
   "nbconvert_exporter": "python",
   "pygments_lexer": "ipython3",
   "version": "3.11.6"
  }
 },
 "nbformat": 4,
 "nbformat_minor": 5
}
